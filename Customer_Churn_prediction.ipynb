{
 "cells": [
  {
   "cell_type": "code",
   "execution_count": 1,
   "id": "b528fecc",
   "metadata": {},
   "outputs": [],
   "source": [
    "import numpy as np\n",
    "import pandas as pd\n",
    "import matplotlib.pyplot as plt\n",
    "import seaborn as sns\n",
    "import warnings\n",
    "warnings.filterwarnings(\"ignore\")"
   ]
  },
  {
   "cell_type": "code",
   "execution_count": 2,
   "id": "f230405e",
   "metadata": {},
   "outputs": [],
   "source": [
    "df = pd.read_csv(\"Churn Modeling.csv\")"
   ]
  },
  {
   "cell_type": "code",
   "execution_count": 3,
   "id": "680c63d2",
   "metadata": {
    "scrolled": true
   },
   "outputs": [
    {
     "data": {
      "text/html": [
       "<div>\n",
       "<style scoped>\n",
       "    .dataframe tbody tr th:only-of-type {\n",
       "        vertical-align: middle;\n",
       "    }\n",
       "\n",
       "    .dataframe tbody tr th {\n",
       "        vertical-align: top;\n",
       "    }\n",
       "\n",
       "    .dataframe thead th {\n",
       "        text-align: right;\n",
       "    }\n",
       "</style>\n",
       "<table border=\"1\" class=\"dataframe\">\n",
       "  <thead>\n",
       "    <tr style=\"text-align: right;\">\n",
       "      <th></th>\n",
       "      <th>RowNumber</th>\n",
       "      <th>CustomerId</th>\n",
       "      <th>Surname</th>\n",
       "      <th>CreditScore</th>\n",
       "      <th>Geography</th>\n",
       "      <th>Gender</th>\n",
       "      <th>Age</th>\n",
       "      <th>Tenure</th>\n",
       "      <th>Balance</th>\n",
       "      <th>NumOfProducts</th>\n",
       "      <th>HasCrCard</th>\n",
       "      <th>IsActiveMember</th>\n",
       "      <th>EstimatedSalary</th>\n",
       "      <th>Exited</th>\n",
       "    </tr>\n",
       "  </thead>\n",
       "  <tbody>\n",
       "    <tr>\n",
       "      <th>0</th>\n",
       "      <td>1</td>\n",
       "      <td>15634602</td>\n",
       "      <td>Hargrave</td>\n",
       "      <td>619</td>\n",
       "      <td>France</td>\n",
       "      <td>Female</td>\n",
       "      <td>42</td>\n",
       "      <td>2</td>\n",
       "      <td>0.00</td>\n",
       "      <td>1</td>\n",
       "      <td>1</td>\n",
       "      <td>1</td>\n",
       "      <td>101348.88</td>\n",
       "      <td>1</td>\n",
       "    </tr>\n",
       "    <tr>\n",
       "      <th>1</th>\n",
       "      <td>2</td>\n",
       "      <td>15647311</td>\n",
       "      <td>Hill</td>\n",
       "      <td>608</td>\n",
       "      <td>Spain</td>\n",
       "      <td>Female</td>\n",
       "      <td>41</td>\n",
       "      <td>1</td>\n",
       "      <td>83807.86</td>\n",
       "      <td>1</td>\n",
       "      <td>0</td>\n",
       "      <td>1</td>\n",
       "      <td>112542.58</td>\n",
       "      <td>0</td>\n",
       "    </tr>\n",
       "    <tr>\n",
       "      <th>2</th>\n",
       "      <td>3</td>\n",
       "      <td>15619304</td>\n",
       "      <td>Onio</td>\n",
       "      <td>502</td>\n",
       "      <td>France</td>\n",
       "      <td>Female</td>\n",
       "      <td>42</td>\n",
       "      <td>8</td>\n",
       "      <td>159660.80</td>\n",
       "      <td>3</td>\n",
       "      <td>1</td>\n",
       "      <td>0</td>\n",
       "      <td>113931.57</td>\n",
       "      <td>1</td>\n",
       "    </tr>\n",
       "    <tr>\n",
       "      <th>3</th>\n",
       "      <td>4</td>\n",
       "      <td>15701354</td>\n",
       "      <td>Boni</td>\n",
       "      <td>699</td>\n",
       "      <td>France</td>\n",
       "      <td>Female</td>\n",
       "      <td>39</td>\n",
       "      <td>1</td>\n",
       "      <td>0.00</td>\n",
       "      <td>2</td>\n",
       "      <td>0</td>\n",
       "      <td>0</td>\n",
       "      <td>93826.63</td>\n",
       "      <td>0</td>\n",
       "    </tr>\n",
       "    <tr>\n",
       "      <th>4</th>\n",
       "      <td>5</td>\n",
       "      <td>15737888</td>\n",
       "      <td>Mitchell</td>\n",
       "      <td>850</td>\n",
       "      <td>Spain</td>\n",
       "      <td>Female</td>\n",
       "      <td>43</td>\n",
       "      <td>2</td>\n",
       "      <td>125510.82</td>\n",
       "      <td>1</td>\n",
       "      <td>1</td>\n",
       "      <td>1</td>\n",
       "      <td>79084.10</td>\n",
       "      <td>0</td>\n",
       "    </tr>\n",
       "  </tbody>\n",
       "</table>\n",
       "</div>"
      ],
      "text/plain": [
       "   RowNumber  CustomerId   Surname  CreditScore Geography  Gender  Age  \\\n",
       "0          1    15634602  Hargrave          619    France  Female   42   \n",
       "1          2    15647311      Hill          608     Spain  Female   41   \n",
       "2          3    15619304      Onio          502    France  Female   42   \n",
       "3          4    15701354      Boni          699    France  Female   39   \n",
       "4          5    15737888  Mitchell          850     Spain  Female   43   \n",
       "\n",
       "   Tenure    Balance  NumOfProducts  HasCrCard  IsActiveMember  \\\n",
       "0       2       0.00              1          1               1   \n",
       "1       1   83807.86              1          0               1   \n",
       "2       8  159660.80              3          1               0   \n",
       "3       1       0.00              2          0               0   \n",
       "4       2  125510.82              1          1               1   \n",
       "\n",
       "   EstimatedSalary  Exited  \n",
       "0        101348.88       1  \n",
       "1        112542.58       0  \n",
       "2        113931.57       1  \n",
       "3         93826.63       0  \n",
       "4         79084.10       0  "
      ]
     },
     "execution_count": 3,
     "metadata": {},
     "output_type": "execute_result"
    }
   ],
   "source": [
    "df.head()"
   ]
  },
  {
   "cell_type": "code",
   "execution_count": 4,
   "id": "6a936e1b",
   "metadata": {},
   "outputs": [
    {
     "data": {
      "text/plain": [
       "Index(['RowNumber', 'CustomerId', 'Surname', 'CreditScore', 'Geography',\n",
       "       'Gender', 'Age', 'Tenure', 'Balance', 'NumOfProducts', 'HasCrCard',\n",
       "       'IsActiveMember', 'EstimatedSalary', 'Exited'],\n",
       "      dtype='object')"
      ]
     },
     "execution_count": 4,
     "metadata": {},
     "output_type": "execute_result"
    }
   ],
   "source": [
    "df.columns"
   ]
  },
  {
   "cell_type": "code",
   "execution_count": 5,
   "id": "2bb5b260",
   "metadata": {},
   "outputs": [
    {
     "name": "stdout",
     "output_type": "stream",
     "text": [
      "<class 'pandas.core.frame.DataFrame'>\n",
      "RangeIndex: 10000 entries, 0 to 9999\n",
      "Data columns (total 14 columns):\n",
      " #   Column           Non-Null Count  Dtype  \n",
      "---  ------           --------------  -----  \n",
      " 0   RowNumber        10000 non-null  int64  \n",
      " 1   CustomerId       10000 non-null  int64  \n",
      " 2   Surname          10000 non-null  object \n",
      " 3   CreditScore      10000 non-null  int64  \n",
      " 4   Geography        10000 non-null  object \n",
      " 5   Gender           10000 non-null  object \n",
      " 6   Age              10000 non-null  int64  \n",
      " 7   Tenure           10000 non-null  int64  \n",
      " 8   Balance          10000 non-null  float64\n",
      " 9   NumOfProducts    10000 non-null  int64  \n",
      " 10  HasCrCard        10000 non-null  int64  \n",
      " 11  IsActiveMember   10000 non-null  int64  \n",
      " 12  EstimatedSalary  10000 non-null  float64\n",
      " 13  Exited           10000 non-null  int64  \n",
      "dtypes: float64(2), int64(9), object(3)\n",
      "memory usage: 1.1+ MB\n"
     ]
    }
   ],
   "source": [
    "df.info()"
   ]
  },
  {
   "cell_type": "code",
   "execution_count": 6,
   "id": "2c239b40",
   "metadata": {
    "scrolled": true
   },
   "outputs": [
    {
     "data": {
      "text/html": [
       "<div>\n",
       "<style scoped>\n",
       "    .dataframe tbody tr th:only-of-type {\n",
       "        vertical-align: middle;\n",
       "    }\n",
       "\n",
       "    .dataframe tbody tr th {\n",
       "        vertical-align: top;\n",
       "    }\n",
       "\n",
       "    .dataframe thead th {\n",
       "        text-align: right;\n",
       "    }\n",
       "</style>\n",
       "<table border=\"1\" class=\"dataframe\">\n",
       "  <thead>\n",
       "    <tr style=\"text-align: right;\">\n",
       "      <th></th>\n",
       "      <th>RowNumber</th>\n",
       "      <th>CustomerId</th>\n",
       "      <th>CreditScore</th>\n",
       "      <th>Age</th>\n",
       "      <th>Tenure</th>\n",
       "      <th>Balance</th>\n",
       "      <th>NumOfProducts</th>\n",
       "      <th>HasCrCard</th>\n",
       "      <th>IsActiveMember</th>\n",
       "      <th>EstimatedSalary</th>\n",
       "      <th>Exited</th>\n",
       "    </tr>\n",
       "  </thead>\n",
       "  <tbody>\n",
       "    <tr>\n",
       "      <th>count</th>\n",
       "      <td>10000.00000</td>\n",
       "      <td>1.000000e+04</td>\n",
       "      <td>10000.000000</td>\n",
       "      <td>10000.000000</td>\n",
       "      <td>10000.000000</td>\n",
       "      <td>10000.000000</td>\n",
       "      <td>10000.000000</td>\n",
       "      <td>10000.00000</td>\n",
       "      <td>10000.000000</td>\n",
       "      <td>10000.000000</td>\n",
       "      <td>10000.000000</td>\n",
       "    </tr>\n",
       "    <tr>\n",
       "      <th>mean</th>\n",
       "      <td>5000.50000</td>\n",
       "      <td>1.569094e+07</td>\n",
       "      <td>650.528800</td>\n",
       "      <td>38.921800</td>\n",
       "      <td>5.012800</td>\n",
       "      <td>76485.889288</td>\n",
       "      <td>1.530200</td>\n",
       "      <td>0.70550</td>\n",
       "      <td>0.515100</td>\n",
       "      <td>100090.239881</td>\n",
       "      <td>0.203700</td>\n",
       "    </tr>\n",
       "    <tr>\n",
       "      <th>std</th>\n",
       "      <td>2886.89568</td>\n",
       "      <td>7.193619e+04</td>\n",
       "      <td>96.653299</td>\n",
       "      <td>10.487806</td>\n",
       "      <td>2.892174</td>\n",
       "      <td>62397.405202</td>\n",
       "      <td>0.581654</td>\n",
       "      <td>0.45584</td>\n",
       "      <td>0.499797</td>\n",
       "      <td>57510.492818</td>\n",
       "      <td>0.402769</td>\n",
       "    </tr>\n",
       "    <tr>\n",
       "      <th>min</th>\n",
       "      <td>1.00000</td>\n",
       "      <td>1.556570e+07</td>\n",
       "      <td>350.000000</td>\n",
       "      <td>18.000000</td>\n",
       "      <td>0.000000</td>\n",
       "      <td>0.000000</td>\n",
       "      <td>1.000000</td>\n",
       "      <td>0.00000</td>\n",
       "      <td>0.000000</td>\n",
       "      <td>11.580000</td>\n",
       "      <td>0.000000</td>\n",
       "    </tr>\n",
       "    <tr>\n",
       "      <th>25%</th>\n",
       "      <td>2500.75000</td>\n",
       "      <td>1.562853e+07</td>\n",
       "      <td>584.000000</td>\n",
       "      <td>32.000000</td>\n",
       "      <td>3.000000</td>\n",
       "      <td>0.000000</td>\n",
       "      <td>1.000000</td>\n",
       "      <td>0.00000</td>\n",
       "      <td>0.000000</td>\n",
       "      <td>51002.110000</td>\n",
       "      <td>0.000000</td>\n",
       "    </tr>\n",
       "    <tr>\n",
       "      <th>50%</th>\n",
       "      <td>5000.50000</td>\n",
       "      <td>1.569074e+07</td>\n",
       "      <td>652.000000</td>\n",
       "      <td>37.000000</td>\n",
       "      <td>5.000000</td>\n",
       "      <td>97198.540000</td>\n",
       "      <td>1.000000</td>\n",
       "      <td>1.00000</td>\n",
       "      <td>1.000000</td>\n",
       "      <td>100193.915000</td>\n",
       "      <td>0.000000</td>\n",
       "    </tr>\n",
       "    <tr>\n",
       "      <th>75%</th>\n",
       "      <td>7500.25000</td>\n",
       "      <td>1.575323e+07</td>\n",
       "      <td>718.000000</td>\n",
       "      <td>44.000000</td>\n",
       "      <td>7.000000</td>\n",
       "      <td>127644.240000</td>\n",
       "      <td>2.000000</td>\n",
       "      <td>1.00000</td>\n",
       "      <td>1.000000</td>\n",
       "      <td>149388.247500</td>\n",
       "      <td>0.000000</td>\n",
       "    </tr>\n",
       "    <tr>\n",
       "      <th>max</th>\n",
       "      <td>10000.00000</td>\n",
       "      <td>1.581569e+07</td>\n",
       "      <td>850.000000</td>\n",
       "      <td>92.000000</td>\n",
       "      <td>10.000000</td>\n",
       "      <td>250898.090000</td>\n",
       "      <td>4.000000</td>\n",
       "      <td>1.00000</td>\n",
       "      <td>1.000000</td>\n",
       "      <td>199992.480000</td>\n",
       "      <td>1.000000</td>\n",
       "    </tr>\n",
       "  </tbody>\n",
       "</table>\n",
       "</div>"
      ],
      "text/plain": [
       "         RowNumber    CustomerId   CreditScore           Age        Tenure  \\\n",
       "count  10000.00000  1.000000e+04  10000.000000  10000.000000  10000.000000   \n",
       "mean    5000.50000  1.569094e+07    650.528800     38.921800      5.012800   \n",
       "std     2886.89568  7.193619e+04     96.653299     10.487806      2.892174   \n",
       "min        1.00000  1.556570e+07    350.000000     18.000000      0.000000   \n",
       "25%     2500.75000  1.562853e+07    584.000000     32.000000      3.000000   \n",
       "50%     5000.50000  1.569074e+07    652.000000     37.000000      5.000000   \n",
       "75%     7500.25000  1.575323e+07    718.000000     44.000000      7.000000   \n",
       "max    10000.00000  1.581569e+07    850.000000     92.000000     10.000000   \n",
       "\n",
       "             Balance  NumOfProducts    HasCrCard  IsActiveMember  \\\n",
       "count   10000.000000   10000.000000  10000.00000    10000.000000   \n",
       "mean    76485.889288       1.530200      0.70550        0.515100   \n",
       "std     62397.405202       0.581654      0.45584        0.499797   \n",
       "min         0.000000       1.000000      0.00000        0.000000   \n",
       "25%         0.000000       1.000000      0.00000        0.000000   \n",
       "50%     97198.540000       1.000000      1.00000        1.000000   \n",
       "75%    127644.240000       2.000000      1.00000        1.000000   \n",
       "max    250898.090000       4.000000      1.00000        1.000000   \n",
       "\n",
       "       EstimatedSalary        Exited  \n",
       "count     10000.000000  10000.000000  \n",
       "mean     100090.239881      0.203700  \n",
       "std       57510.492818      0.402769  \n",
       "min          11.580000      0.000000  \n",
       "25%       51002.110000      0.000000  \n",
       "50%      100193.915000      0.000000  \n",
       "75%      149388.247500      0.000000  \n",
       "max      199992.480000      1.000000  "
      ]
     },
     "execution_count": 6,
     "metadata": {},
     "output_type": "execute_result"
    }
   ],
   "source": [
    "df.describe()"
   ]
  },
  {
   "cell_type": "code",
   "execution_count": 7,
   "id": "e7695211",
   "metadata": {},
   "outputs": [],
   "source": [
    "#CustomerID, Surname and Row Number are unnecessary features \n",
    "df.drop(['RowNumber','Surname','CustomerId'],axis = 1, inplace = True)"
   ]
  },
  {
   "cell_type": "code",
   "execution_count": 8,
   "id": "d5a79122",
   "metadata": {
    "scrolled": true
   },
   "outputs": [
    {
     "data": {
      "text/html": [
       "<div>\n",
       "<style scoped>\n",
       "    .dataframe tbody tr th:only-of-type {\n",
       "        vertical-align: middle;\n",
       "    }\n",
       "\n",
       "    .dataframe tbody tr th {\n",
       "        vertical-align: top;\n",
       "    }\n",
       "\n",
       "    .dataframe thead th {\n",
       "        text-align: right;\n",
       "    }\n",
       "</style>\n",
       "<table border=\"1\" class=\"dataframe\">\n",
       "  <thead>\n",
       "    <tr style=\"text-align: right;\">\n",
       "      <th></th>\n",
       "      <th>CreditScore</th>\n",
       "      <th>Geography</th>\n",
       "      <th>Gender</th>\n",
       "      <th>Age</th>\n",
       "      <th>Tenure</th>\n",
       "      <th>Balance</th>\n",
       "      <th>NumOfProducts</th>\n",
       "      <th>HasCrCard</th>\n",
       "      <th>IsActiveMember</th>\n",
       "      <th>EstimatedSalary</th>\n",
       "      <th>Exited</th>\n",
       "    </tr>\n",
       "  </thead>\n",
       "  <tbody>\n",
       "    <tr>\n",
       "      <th>0</th>\n",
       "      <td>619</td>\n",
       "      <td>France</td>\n",
       "      <td>Female</td>\n",
       "      <td>42</td>\n",
       "      <td>2</td>\n",
       "      <td>0.00</td>\n",
       "      <td>1</td>\n",
       "      <td>1</td>\n",
       "      <td>1</td>\n",
       "      <td>101348.88</td>\n",
       "      <td>1</td>\n",
       "    </tr>\n",
       "    <tr>\n",
       "      <th>1</th>\n",
       "      <td>608</td>\n",
       "      <td>Spain</td>\n",
       "      <td>Female</td>\n",
       "      <td>41</td>\n",
       "      <td>1</td>\n",
       "      <td>83807.86</td>\n",
       "      <td>1</td>\n",
       "      <td>0</td>\n",
       "      <td>1</td>\n",
       "      <td>112542.58</td>\n",
       "      <td>0</td>\n",
       "    </tr>\n",
       "    <tr>\n",
       "      <th>2</th>\n",
       "      <td>502</td>\n",
       "      <td>France</td>\n",
       "      <td>Female</td>\n",
       "      <td>42</td>\n",
       "      <td>8</td>\n",
       "      <td>159660.80</td>\n",
       "      <td>3</td>\n",
       "      <td>1</td>\n",
       "      <td>0</td>\n",
       "      <td>113931.57</td>\n",
       "      <td>1</td>\n",
       "    </tr>\n",
       "    <tr>\n",
       "      <th>3</th>\n",
       "      <td>699</td>\n",
       "      <td>France</td>\n",
       "      <td>Female</td>\n",
       "      <td>39</td>\n",
       "      <td>1</td>\n",
       "      <td>0.00</td>\n",
       "      <td>2</td>\n",
       "      <td>0</td>\n",
       "      <td>0</td>\n",
       "      <td>93826.63</td>\n",
       "      <td>0</td>\n",
       "    </tr>\n",
       "    <tr>\n",
       "      <th>4</th>\n",
       "      <td>850</td>\n",
       "      <td>Spain</td>\n",
       "      <td>Female</td>\n",
       "      <td>43</td>\n",
       "      <td>2</td>\n",
       "      <td>125510.82</td>\n",
       "      <td>1</td>\n",
       "      <td>1</td>\n",
       "      <td>1</td>\n",
       "      <td>79084.10</td>\n",
       "      <td>0</td>\n",
       "    </tr>\n",
       "  </tbody>\n",
       "</table>\n",
       "</div>"
      ],
      "text/plain": [
       "   CreditScore Geography  Gender  Age  Tenure    Balance  NumOfProducts  \\\n",
       "0          619    France  Female   42       2       0.00              1   \n",
       "1          608     Spain  Female   41       1   83807.86              1   \n",
       "2          502    France  Female   42       8  159660.80              3   \n",
       "3          699    France  Female   39       1       0.00              2   \n",
       "4          850     Spain  Female   43       2  125510.82              1   \n",
       "\n",
       "   HasCrCard  IsActiveMember  EstimatedSalary  Exited  \n",
       "0          1               1        101348.88       1  \n",
       "1          0               1        112542.58       0  \n",
       "2          1               0        113931.57       1  \n",
       "3          0               0         93826.63       0  \n",
       "4          1               1         79084.10       0  "
      ]
     },
     "execution_count": 8,
     "metadata": {},
     "output_type": "execute_result"
    }
   ],
   "source": [
    "df.head()"
   ]
  },
  {
   "cell_type": "markdown",
   "id": "40e26531",
   "metadata": {},
   "source": [
    "# Data visualization"
   ]
  },
  {
   "cell_type": "code",
   "execution_count": 9,
   "id": "2aef0e7a",
   "metadata": {},
   "outputs": [
    {
     "data": {
      "text/plain": [
       "Text(0, 0.5, 'Counts')"
      ]
     },
     "execution_count": 9,
     "metadata": {},
     "output_type": "execute_result"
    },
    {
     "data": {
      "image/png": "[encoded data removed]",
      "text/plain": [
       "<Figure size 432x288 with 1 Axes>"
      ]
     },
     "metadata": {
      "needs_background": "light"
     },
     "output_type": "display_data"
    }
   ],
   "source": [
    "#Number of months customer stayed with bank\n",
    "sns.countplot(df['Tenure'])\n",
    "plt.title(\"Number of months customer stayed with bank\")\n",
    "plt.xlabel(\"Months\")\n",
    "plt.ylabel(\"Counts\")"
   ]
  },
  {
   "cell_type": "code",
   "execution_count": 10,
   "id": "ae150a67",
   "metadata": {},
   "outputs": [
    {
     "data": {
      "text/plain": [
       "<AxesSubplot:xlabel='Age', ylabel='Count'>"
      ]
     },
     "execution_count": 10,
     "metadata": {},
     "output_type": "execute_result"
    },
    {
     "data": {
      "image/png": "[encoded data removed]",
      "text/plain": [
       "<Figure size 432x288 with 1 Axes>"
      ]
     },
     "metadata": {
      "needs_background": "light"
     },
     "output_type": "display_data"
    }
   ],
   "source": [
    "sns.histplot(df['Age'],bins = 20)"
   ]
  },
  {
   "cell_type": "code",
   "execution_count": 11,
   "id": "acfecb7c",
   "metadata": {},
   "outputs": [
    {
     "data": {
      "text/plain": [
       "<AxesSubplot:xlabel='Balance', ylabel='Count'>"
      ]
     },
     "execution_count": 11,
     "metadata": {},
     "output_type": "execute_result"
    },
    {
     "data": {
      "image/png": "[encoded data removed]",
      "text/plain": [
       "<Figure size 432x288 with 1 Axes>"
      ]
     },
     "metadata": {
      "needs_background": "light"
     },
     "output_type": "display_data"
    }
   ],
   "source": [
    "sns.histplot(df['Balance'],bins = 20)"
   ]
  },
  {
   "cell_type": "code",
   "execution_count": 12,
   "id": "88db1521",
   "metadata": {},
   "outputs": [
    {
     "data": {
      "text/plain": [
       "<AxesSubplot:xlabel='CreditScore', ylabel='Count'>"
      ]
     },
     "execution_count": 12,
     "metadata": {},
     "output_type": "execute_result"
    },
    {
     "data": {
      "image/png": "[encoded data removed]",
      "text/plain": [
       "<Figure size 432x288 with 1 Axes>"
      ]
     },
     "metadata": {
      "needs_background": "light"
     },
     "output_type": "display_data"
    }
   ],
   "source": [
    "sns.histplot(df['CreditScore'],bins = 20)"
   ]
  },
  {
   "cell_type": "code",
   "execution_count": 13,
   "id": "271bab13",
   "metadata": {},
   "outputs": [
    {
     "data": {
      "text/plain": [
       "<AxesSubplot:xlabel='EstimatedSalary', ylabel='Count'>"
      ]
     },
     "execution_count": 13,
     "metadata": {},
     "output_type": "execute_result"
    },
    {
     "data": {
      "image/png": "[encoded data removed]",
      "text/plain": [
       "<Figure size 432x288 with 1 Axes>"
      ]
     },
     "metadata": {
      "needs_background": "light"
     },
     "output_type": "display_data"
    }
   ],
   "source": [
    "sns.histplot(df['EstimatedSalary'],bins = 20)"
   ]
  },
  {
   "cell_type": "code",
   "execution_count": 14,
   "id": "531624b0",
   "metadata": {
    "scrolled": true
   },
   "outputs": [
    {
     "data": {
      "text/plain": [
       "([<matplotlib.patches.Wedge at 0x205f4bf1180>,\n",
       "  <matplotlib.patches.Wedge at 0x205f4bf18d0>,\n",
       "  <matplotlib.patches.Wedge at 0x205f4bf1ff0>],\n",
       " [Text(-0.0048380159962871415, 1.0999893606763749, 'France'),\n",
       "  Text(-0.7687238787085311, -0.786805947043686, 'Germany'),\n",
       "  Text(0.7834173384027578, -0.7721769705773016, 'Spain')],\n",
       " [Text(-0.002638917816156622, 0.599994196732568, '50.14%'),\n",
       "  Text(-0.4193039338410169, -0.4291668802056469, '25.09%'),\n",
       "  Text(0.42731854821968607, -0.42118743849671, '24.77%')])"
      ]
     },
     "execution_count": 14,
     "metadata": {},
     "output_type": "execute_result"
    },
    {
     "data": {
      "image/png": "[encoded data removed]",
      "text/plain": [
       "<Figure size 432x288 with 1 Axes>"
      ]
     },
     "metadata": {},
     "output_type": "display_data"
    }
   ],
   "source": [
    "x = df['Geography'].value_counts().index\n",
    "y = df['Geography'].value_counts().values\n",
    "plt.pie(y,labels = x, autopct = \"%1.2f%%\")"
   ]
  },
  {
   "cell_type": "code",
   "execution_count": 15,
   "id": "52e9c3a0",
   "metadata": {
    "scrolled": false
   },
   "outputs": [
    {
     "data": {
      "image/png": "[encoded data removed]",
      "text/plain": [
       "<Figure size 432x288 with 1 Axes>"
      ]
     },
     "metadata": {
      "needs_background": "light"
     },
     "output_type": "display_data"
    },
    {
     "data": {
      "image/png": "[encoded data removed]",
      "text/plain": [
       "<Figure size 432x288 with 1 Axes>"
      ]
     },
     "metadata": {
      "needs_background": "light"
     },
     "output_type": "display_data"
    },
    {
     "data": {
      "image/png": "[encoded data removed]",
      "text/plain": [
       "<Figure size 432x288 with 1 Axes>"
      ]
     },
     "metadata": {
      "needs_background": "light"
     },
     "output_type": "display_data"
    },
    {
     "data": {
      "image/png": "[encoded data removed]",
      "text/plain": [
       "<Figure size 432x288 with 1 Axes>"
      ]
     },
     "metadata": {
      "needs_background": "light"
     },
     "output_type": "display_data"
    },
    {
     "data": {
      "image/png": "[encoded data removed]",
      "text/plain": [
       "<Figure size 432x288 with 1 Axes>"
      ]
     },
     "metadata": {
      "needs_background": "light"
     },
     "output_type": "display_data"
    }
   ],
   "source": [
    "lst = ['Geography','Gender','NumOfProducts','HasCrCard','IsActiveMember']\n",
    "for fe in lst:\n",
    "    sns.countplot(fe, hue = 'Exited', data = df)\n",
    "    plt.show()"
   ]
  },
  {
   "cell_type": "code",
   "execution_count": 16,
   "id": "12baffd4",
   "metadata": {},
   "outputs": [
    {
     "data": {
      "text/plain": [
       "<AxesSubplot:>"
      ]
     },
     "execution_count": 16,
     "metadata": {},
     "output_type": "execute_result"
    },
    {
     "data": {
      "image/png": "[encoded data removed]",
      "text/plain": [
       "<Figure size 1440x720 with 2 Axes>"
      ]
     },
     "metadata": {
      "needs_background": "light"
     },
     "output_type": "display_data"
    }
   ],
   "source": [
    "plt.figure(figsize = (20,10))\n",
    "sns.heatmap(df.corr(),annot = True,cmap = 'viridis')"
   ]
  },
  {
   "cell_type": "code",
   "execution_count": 17,
   "id": "74975749",
   "metadata": {
    "scrolled": true
   },
   "outputs": [
    {
     "data": {
      "image/png": "[encoded data removed]",
      "text/plain": [
       "<Figure size 432x288 with 1 Axes>"
      ]
     },
     "metadata": {
      "needs_background": "light"
     },
     "output_type": "display_data"
    },
    {
     "data": {
      "image/png": "[encoded data removed]",
      "text/plain": [
       "<Figure size 432x288 with 1 Axes>"
      ]
     },
     "metadata": {
      "needs_background": "light"
     },
     "output_type": "display_data"
    },
    {
     "data": {
      "image/png": "[encoded data removed]",
      "text/plain": [
       "<Figure size 432x288 with 1 Axes>"
      ]
     },
     "metadata": {
      "needs_background": "light"
     },
     "output_type": "display_data"
    },
    {
     "data": {
      "image/png": "[encoded data removed]",
      "text/plain": [
       "<Figure size 432x288 with 1 Axes>"
      ]
     },
     "metadata": {
      "needs_background": "light"
     },
     "output_type": "display_data"
    }
   ],
   "source": [
    "#how many members are active as per geography, gender, Have credit card and Number of product purchase through bank\n",
    "lst = ['Geography','Gender','HasCrCard','NumOfProducts']\n",
    "for fe in lst:\n",
    "    sns.countplot(fe, hue = 'IsActiveMember', data = df)\n",
    "    plt.show()"
   ]
  },
  {
   "cell_type": "code",
   "execution_count": 18,
   "id": "3d975ed9",
   "metadata": {
    "scrolled": true
   },
   "outputs": [
    {
     "data": {
      "image/png": "[encoded data removed]",
      "text/plain": [
       "<Figure size 432x288 with 1 Axes>"
      ]
     },
     "metadata": {
      "needs_background": "light"
     },
     "output_type": "display_data"
    },
    {
     "data": {
      "image/png": "[encoded data removed]",
      "text/plain": [
       "<Figure size 432x288 with 1 Axes>"
      ]
     },
     "metadata": {
      "needs_background": "light"
     },
     "output_type": "display_data"
    },
    {
     "data": {
      "image/png": "[encoded data removed]",
      "text/plain": [
       "<Figure size 432x288 with 1 Axes>"
      ]
     },
     "metadata": {
      "needs_background": "light"
     },
     "output_type": "display_data"
    },
    {
     "data": {
      "image/png": "[encoded data removed]",
      "text/plain": [
       "<Figure size 432x288 with 1 Axes>"
      ]
     },
     "metadata": {
      "needs_background": "light"
     },
     "output_type": "display_data"
    },
    {
     "data": {
      "image/png": "[encoded data removed]",
      "text/plain": [
       "<Figure size 432x288 with 1 Axes>"
      ]
     },
     "metadata": {
      "needs_background": "light"
     },
     "output_type": "display_data"
    }
   ],
   "source": [
    "lst = ['Age','Balance','CreditScore','EstimatedSalary','Tenure']\n",
    "for fe in lst:\n",
    "    sns.boxplot('Exited', fe, data = df)\n",
    "    plt.show()"
   ]
  },
  {
   "cell_type": "code",
   "execution_count": 19,
   "id": "a3fe1fdb",
   "metadata": {},
   "outputs": [
    {
     "data": {
      "text/plain": [
       "<AxesSubplot:xlabel='Exited', ylabel='Age'>"
      ]
     },
     "execution_count": 19,
     "metadata": {},
     "output_type": "execute_result"
    },
    {
     "data": {
      "image/png": "[encoded data removed]",
      "text/plain": [
       "<Figure size 432x288 with 1 Axes>"
      ]
     },
     "metadata": {
      "needs_background": "light"
     },
     "output_type": "display_data"
    }
   ],
   "source": [
    "for i in df['Age']:\n",
    "    Q1 = df['Age'].quantile(0.25)\n",
    "    Q3 = df['Age'].quantile(0.75)\n",
    "    IQR = Q3-Q1\n",
    "    lower = Q1- 1.5*IQR\n",
    "    upper = Q3 + 1.5*IQR\n",
    "    \n",
    "    if i > upper or i < lower:\n",
    "        df['Age'] = df['Age'].replace(i,upper)\n",
    "        \n",
    "sns.boxplot('Exited', 'Age', data = df)"
   ]
  },
  {
   "cell_type": "code",
   "execution_count": 20,
   "id": "dfa298fb",
   "metadata": {},
   "outputs": [],
   "source": [
    "#converting categorical variables to numerical"
   ]
  },
  {
   "cell_type": "code",
   "execution_count": 21,
   "id": "8769686d",
   "metadata": {},
   "outputs": [
    {
     "data": {
      "text/plain": [
       "France     5014\n",
       "Germany    2509\n",
       "Spain      2477\n",
       "Name: Geography, dtype: int64"
      ]
     },
     "execution_count": 21,
     "metadata": {},
     "output_type": "execute_result"
    }
   ],
   "source": [
    "df['Geography'].value_counts()"
   ]
  },
  {
   "cell_type": "code",
   "execution_count": 22,
   "id": "32ef52ed",
   "metadata": {},
   "outputs": [
    {
     "data": {
      "text/plain": [
       "Male      5457\n",
       "Female    4543\n",
       "Name: Gender, dtype: int64"
      ]
     },
     "execution_count": 22,
     "metadata": {},
     "output_type": "execute_result"
    }
   ],
   "source": [
    "df['Gender'].value_counts()"
   ]
  },
  {
   "cell_type": "code",
   "execution_count": 23,
   "id": "e5b3c650",
   "metadata": {},
   "outputs": [],
   "source": [
    "df['Geography'] = df['Geography'].map({'France':1,'Germany':2,'Spain':3})"
   ]
  },
  {
   "cell_type": "code",
   "execution_count": 24,
   "id": "4977c2d2",
   "metadata": {},
   "outputs": [],
   "source": [
    "df['Gender'] = df['Gender'].map({'Male':1,'Female':2})"
   ]
  },
  {
   "cell_type": "code",
   "execution_count": 25,
   "id": "fef30c69",
   "metadata": {
    "scrolled": true
   },
   "outputs": [
    {
     "data": {
      "text/html": [
       "<div>\n",
       "<style scoped>\n",
       "    .dataframe tbody tr th:only-of-type {\n",
       "        vertical-align: middle;\n",
       "    }\n",
       "\n",
       "    .dataframe tbody tr th {\n",
       "        vertical-align: top;\n",
       "    }\n",
       "\n",
       "    .dataframe thead th {\n",
       "        text-align: right;\n",
       "    }\n",
       "</style>\n",
       "<table border=\"1\" class=\"dataframe\">\n",
       "  <thead>\n",
       "    <tr style=\"text-align: right;\">\n",
       "      <th></th>\n",
       "      <th>CreditScore</th>\n",
       "      <th>Geography</th>\n",
       "      <th>Gender</th>\n",
       "      <th>Age</th>\n",
       "      <th>Tenure</th>\n",
       "      <th>Balance</th>\n",
       "      <th>NumOfProducts</th>\n",
       "      <th>HasCrCard</th>\n",
       "      <th>IsActiveMember</th>\n",
       "      <th>EstimatedSalary</th>\n",
       "      <th>Exited</th>\n",
       "    </tr>\n",
       "  </thead>\n",
       "  <tbody>\n",
       "    <tr>\n",
       "      <th>0</th>\n",
       "      <td>619</td>\n",
       "      <td>1</td>\n",
       "      <td>2</td>\n",
       "      <td>42</td>\n",
       "      <td>2</td>\n",
       "      <td>0.00</td>\n",
       "      <td>1</td>\n",
       "      <td>1</td>\n",
       "      <td>1</td>\n",
       "      <td>101348.88</td>\n",
       "      <td>1</td>\n",
       "    </tr>\n",
       "    <tr>\n",
       "      <th>1</th>\n",
       "      <td>608</td>\n",
       "      <td>3</td>\n",
       "      <td>2</td>\n",
       "      <td>41</td>\n",
       "      <td>1</td>\n",
       "      <td>83807.86</td>\n",
       "      <td>1</td>\n",
       "      <td>0</td>\n",
       "      <td>1</td>\n",
       "      <td>112542.58</td>\n",
       "      <td>0</td>\n",
       "    </tr>\n",
       "    <tr>\n",
       "      <th>2</th>\n",
       "      <td>502</td>\n",
       "      <td>1</td>\n",
       "      <td>2</td>\n",
       "      <td>42</td>\n",
       "      <td>8</td>\n",
       "      <td>159660.80</td>\n",
       "      <td>3</td>\n",
       "      <td>1</td>\n",
       "      <td>0</td>\n",
       "      <td>113931.57</td>\n",
       "      <td>1</td>\n",
       "    </tr>\n",
       "    <tr>\n",
       "      <th>3</th>\n",
       "      <td>699</td>\n",
       "      <td>1</td>\n",
       "      <td>2</td>\n",
       "      <td>39</td>\n",
       "      <td>1</td>\n",
       "      <td>0.00</td>\n",
       "      <td>2</td>\n",
       "      <td>0</td>\n",
       "      <td>0</td>\n",
       "      <td>93826.63</td>\n",
       "      <td>0</td>\n",
       "    </tr>\n",
       "    <tr>\n",
       "      <th>4</th>\n",
       "      <td>850</td>\n",
       "      <td>3</td>\n",
       "      <td>2</td>\n",
       "      <td>43</td>\n",
       "      <td>2</td>\n",
       "      <td>125510.82</td>\n",
       "      <td>1</td>\n",
       "      <td>1</td>\n",
       "      <td>1</td>\n",
       "      <td>79084.10</td>\n",
       "      <td>0</td>\n",
       "    </tr>\n",
       "  </tbody>\n",
       "</table>\n",
       "</div>"
      ],
      "text/plain": [
       "   CreditScore  Geography  Gender  Age  Tenure    Balance  NumOfProducts  \\\n",
       "0          619          1       2   42       2       0.00              1   \n",
       "1          608          3       2   41       1   83807.86              1   \n",
       "2          502          1       2   42       8  159660.80              3   \n",
       "3          699          1       2   39       1       0.00              2   \n",
       "4          850          3       2   43       2  125510.82              1   \n",
       "\n",
       "   HasCrCard  IsActiveMember  EstimatedSalary  Exited  \n",
       "0          1               1        101348.88       1  \n",
       "1          0               1        112542.58       0  \n",
       "2          1               0        113931.57       1  \n",
       "3          0               0         93826.63       0  \n",
       "4          1               1         79084.10       0  "
      ]
     },
     "execution_count": 25,
     "metadata": {},
     "output_type": "execute_result"
    }
   ],
   "source": [
    "df.head()"
   ]
  },
  {
   "cell_type": "code",
   "execution_count": 26,
   "id": "9a73bd9c",
   "metadata": {},
   "outputs": [
    {
     "data": {
      "text/plain": [
       "<AxesSubplot:xlabel='Exited', ylabel='count'>"
      ]
     },
     "execution_count": 26,
     "metadata": {},
     "output_type": "execute_result"
    },
    {
     "data": {
      "image/png": "[encoded data removed]",
      "text/plain": [
       "<Figure size 432x288 with 1 Axes>"
      ]
     },
     "metadata": {
      "needs_background": "light"
     },
     "output_type": "display_data"
    }
   ],
   "source": [
    "sns.countplot(df['Exited'])"
   ]
  },
  {
   "cell_type": "code",
   "execution_count": 27,
   "id": "bd1464de",
   "metadata": {},
   "outputs": [],
   "source": [
    "x = df.drop('Exited', axis = 1)\n",
    "y = df['Exited']"
   ]
  },
  {
   "cell_type": "code",
   "execution_count": 28,
   "id": "d696eace",
   "metadata": {},
   "outputs": [],
   "source": [
    "#balancing the dataset\n",
    "from imblearn.under_sampling import NearMiss\n",
    "\n",
    "smote = NearMiss()\n",
    "\n",
    "x, y = smote.fit_resample(x, y)"
   ]
  },
  {
   "cell_type": "code",
   "execution_count": 29,
   "id": "873a53cc",
   "metadata": {},
   "outputs": [],
   "source": [
    "from sklearn.model_selection import train_test_split\n",
    "x_train,x_test,y_train,y_test = train_test_split(x,y,test_size= 0.2, random_state = 0)"
   ]
  },
  {
   "cell_type": "code",
   "execution_count": 30,
   "id": "008d1d3f",
   "metadata": {},
   "outputs": [],
   "source": [
    "from sklearn.preprocessing import RobustScaler\n",
    "\n",
    "scaler=RobustScaler()\n",
    "x_train=scaler.fit_transform(x_train)\n",
    "x_test = scaler.transform(x_test)"
   ]
  },
  {
   "cell_type": "code",
   "execution_count": 31,
   "id": "56ad98de",
   "metadata": {},
   "outputs": [],
   "source": [
    "from sklearn.linear_model import LogisticRegression\n",
    "from sklearn.ensemble import RandomForestClassifier\n",
    "from sklearn.tree import DecisionTreeClassifier\n",
    "from sklearn.svm import SVC\n",
    "from sklearn.neighbors import KNeighborsClassifier\n",
    "from sklearn.naive_bayes import GaussianNB\n",
    "from sklearn.metrics import accuracy_score, confusion_matrix,classification_report\n",
    "import scikitplot as skp"
   ]
  },
  {
   "cell_type": "code",
   "execution_count": 32,
   "id": "906bffa2",
   "metadata": {},
   "outputs": [
    {
     "name": "stdout",
     "output_type": "stream",
     "text": [
      "LogisticRegression()\n",
      "Accuracy score :-  0.9116564417177914\n",
      "--------\n",
      "Confusion matrix\n",
      "\n",
      "[[404   7]\n",
      " [ 65 339]]\n",
      "--------\n",
      "RandomForestClassifier()\n",
      "Accuracy score :-  0.9251533742331288\n",
      "--------\n",
      "Confusion matrix\n",
      "\n",
      "[[392  19]\n",
      " [ 42 362]]\n",
      "--------\n",
      "DecisionTreeClassifier()\n",
      "Accuracy score :-  0.8871165644171779\n",
      "--------\n",
      "Confusion matrix\n",
      "\n",
      "[[365  46]\n",
      " [ 46 358]]\n",
      "--------\n",
      "SVC()\n",
      "Accuracy score :-  0.9263803680981595\n",
      "--------\n",
      "Confusion matrix\n",
      "\n",
      "[[391  20]\n",
      " [ 40 364]]\n",
      "--------\n",
      "KNeighborsClassifier()\n",
      "Accuracy score :-  0.8932515337423312\n",
      "--------\n",
      "Confusion matrix\n",
      "\n",
      "[[381  30]\n",
      " [ 57 347]]\n",
      "--------\n",
      "GaussianNB()\n",
      "Accuracy score :-  0.8797546012269939\n",
      "--------\n",
      "Confusion matrix\n",
      "\n",
      "[[411   0]\n",
      " [ 98 306]]\n",
      "--------\n"
     ]
    }
   ],
   "source": [
    "lst = [LogisticRegression(),RandomForestClassifier(),DecisionTreeClassifier(),SVC(),KNeighborsClassifier(),GaussianNB()]\n",
    "for algo in lst:\n",
    "    print(algo)\n",
    "    alg = algo\n",
    "    alg.fit(x_train, y_train)\n",
    "    y_pred = alg.predict(x_test)\n",
    "    print(\"Accuracy score :- \", accuracy_score(y_test,y_pred))\n",
    "    print(\"--------\")\n",
    "    print(\"Confusion matrix\\n\")\n",
    "    print(confusion_matrix(y_test,y_pred))\n",
    "    print(\"--------\")"
   ]
  },
  {
   "cell_type": "code",
   "execution_count": 33,
   "id": "4515c336",
   "metadata": {},
   "outputs": [],
   "source": [
    "#SVC performing great on the dataset"
   ]
  },
  {
   "cell_type": "code",
   "execution_count": 34,
   "id": "d4d2f481",
   "metadata": {
    "scrolled": true
   },
   "outputs": [
    {
     "name": "stdout",
     "output_type": "stream",
     "text": [
      "Fitting 5 folds for each of 40 candidates, totalling 200 fits\n",
      "[CV] END ............C=2, degree=8, gamma=10, kernel=sigmoid; total time=   0.3s\n",
      "[CV] END ............C=2, degree=8, gamma=10, kernel=sigmoid; total time=   0.3s\n",
      "[CV] END ............C=2, degree=8, gamma=10, kernel=sigmoid; total time=   0.3s\n",
      "[CV] END ............C=2, degree=8, gamma=10, kernel=sigmoid; total time=   0.3s\n",
      "[CV] END ............C=2, degree=8, gamma=10, kernel=sigmoid; total time=   0.3s\n",
      "[CV] END ..............C=6, degree=4, gamma=auto, kernel=rbf; total time=   0.2s\n",
      "[CV] END ..............C=6, degree=4, gamma=auto, kernel=rbf; total time=   0.1s\n",
      "[CV] END ..............C=6, degree=4, gamma=auto, kernel=rbf; total time=   0.2s\n",
      "[CV] END ..............C=6, degree=4, gamma=auto, kernel=rbf; total time=   0.1s\n",
      "[CV] END ..............C=6, degree=4, gamma=auto, kernel=rbf; total time=   0.1s\n",
      "[CV] END .................C=2, degree=8, gamma=1, kernel=rbf; total time=   0.3s\n",
      "[CV] END .................C=2, degree=8, gamma=1, kernel=rbf; total time=   0.4s\n",
      "[CV] END .................C=2, degree=8, gamma=1, kernel=rbf; total time=   0.4s\n",
      "[CV] END .................C=2, degree=8, gamma=1, kernel=rbf; total time=   0.4s\n",
      "[CV] END .................C=2, degree=8, gamma=1, kernel=rbf; total time=   0.4s\n",
      "[CV] END ................C=10, degree=9, gamma=1, kernel=rbf; total time=   0.4s\n",
      "[CV] END ................C=10, degree=9, gamma=1, kernel=rbf; total time=   0.6s\n",
      "[CV] END ................C=10, degree=9, gamma=1, kernel=rbf; total time=   0.4s\n",
      "[CV] END ................C=10, degree=9, gamma=1, kernel=rbf; total time=   0.5s\n",
      "[CV] END ................C=10, degree=9, gamma=1, kernel=rbf; total time=   0.4s\n",
      "[CV] END ...........C=2, degree=11, gamma=10, kernel=sigmoid; total time=   0.3s\n",
      "[CV] END ...........C=2, degree=11, gamma=10, kernel=sigmoid; total time=   0.3s\n",
      "[CV] END ...........C=2, degree=11, gamma=10, kernel=sigmoid; total time=   0.4s\n",
      "[CV] END ...........C=2, degree=11, gamma=10, kernel=sigmoid; total time=   0.4s\n",
      "[CV] END ...........C=2, degree=11, gamma=10, kernel=sigmoid; total time=   0.5s\n",
      "[CV] END ...........C=8, degree=13, gamma=10, kernel=sigmoid; total time=   0.4s\n",
      "[CV] END ...........C=8, degree=13, gamma=10, kernel=sigmoid; total time=   0.5s\n",
      "[CV] END ...........C=8, degree=13, gamma=10, kernel=sigmoid; total time=   0.5s\n",
      "[CV] END ...........C=8, degree=13, gamma=10, kernel=sigmoid; total time=   0.5s\n",
      "[CV] END ...........C=8, degree=13, gamma=10, kernel=sigmoid; total time=   0.6s\n",
      "[CV] END .............C=6, degree=9, gamma=1, kernel=sigmoid; total time=   0.2s\n",
      "[CV] END .............C=6, degree=9, gamma=1, kernel=sigmoid; total time=   0.2s\n",
      "[CV] END .............C=6, degree=9, gamma=1, kernel=sigmoid; total time=   0.4s\n",
      "[CV] END .............C=6, degree=9, gamma=1, kernel=sigmoid; total time=   0.5s\n",
      "[CV] END .............C=6, degree=9, gamma=1, kernel=sigmoid; total time=   0.4s\n",
      "[CV] END ............C=2, degree=13, gamma=1, kernel=sigmoid; total time=   0.3s\n",
      "[CV] END ............C=2, degree=13, gamma=1, kernel=sigmoid; total time=   0.3s\n",
      "[CV] END ............C=2, degree=13, gamma=1, kernel=sigmoid; total time=   0.3s\n",
      "[CV] END ............C=2, degree=13, gamma=1, kernel=sigmoid; total time=   0.3s\n",
      "[CV] END ............C=2, degree=13, gamma=1, kernel=sigmoid; total time=   0.3s\n",
      "[CV] END .........C=7, degree=13, gamma=auto, kernel=sigmoid; total time=   0.1s\n",
      "[CV] END .........C=7, degree=13, gamma=auto, kernel=sigmoid; total time=   0.1s\n",
      "[CV] END .........C=7, degree=13, gamma=auto, kernel=sigmoid; total time=   0.2s\n",
      "[CV] END .........C=7, degree=13, gamma=auto, kernel=sigmoid; total time=   0.2s\n",
      "[CV] END .........C=7, degree=13, gamma=auto, kernel=sigmoid; total time=   0.3s\n",
      "[CV] END ............C=1, degree=13, gamma=1, kernel=sigmoid; total time=   0.5s\n",
      "[CV] END ............C=1, degree=13, gamma=1, kernel=sigmoid; total time=   0.4s\n",
      "[CV] END ............C=1, degree=13, gamma=1, kernel=sigmoid; total time=   0.7s\n",
      "[CV] END ............C=1, degree=13, gamma=1, kernel=sigmoid; total time=   0.4s\n",
      "[CV] END ............C=1, degree=13, gamma=1, kernel=sigmoid; total time=   0.8s\n",
      "[CV] END .................C=5, degree=6, gamma=1, kernel=rbf; total time=   0.5s\n",
      "[CV] END .................C=5, degree=6, gamma=1, kernel=rbf; total time=   0.4s\n",
      "[CV] END .................C=5, degree=6, gamma=1, kernel=rbf; total time=   0.4s\n",
      "[CV] END .................C=5, degree=6, gamma=1, kernel=rbf; total time=   0.4s\n",
      "[CV] END .................C=5, degree=6, gamma=1, kernel=rbf; total time=   0.4s\n",
      "[CV] END ...............C=5, degree=15, gamma=10, kernel=rbf; total time=   1.8s\n",
      "[CV] END ...............C=5, degree=15, gamma=10, kernel=rbf; total time=   1.3s\n",
      "[CV] END ...............C=5, degree=15, gamma=10, kernel=rbf; total time=   1.6s\n",
      "[CV] END ...............C=5, degree=15, gamma=10, kernel=rbf; total time=   1.0s\n",
      "[CV] END ...............C=5, degree=15, gamma=10, kernel=rbf; total time=   1.0s\n",
      "[CV] END ..........C=8, degree=4, gamma=auto, kernel=sigmoid; total time=   0.1s\n",
      "[CV] END ..........C=8, degree=4, gamma=auto, kernel=sigmoid; total time=   0.1s\n",
      "[CV] END ..........C=8, degree=4, gamma=auto, kernel=sigmoid; total time=   0.1s\n",
      "[CV] END ..........C=8, degree=4, gamma=auto, kernel=sigmoid; total time=   0.1s\n",
      "[CV] END ..........C=8, degree=4, gamma=auto, kernel=sigmoid; total time=   0.1s\n",
      "[CV] END ..........C=4, degree=9, gamma=auto, kernel=sigmoid; total time=   0.1s\n",
      "[CV] END ..........C=4, degree=9, gamma=auto, kernel=sigmoid; total time=   0.1s\n",
      "[CV] END ..........C=4, degree=9, gamma=auto, kernel=sigmoid; total time=   0.1s\n",
      "[CV] END ..........C=4, degree=9, gamma=auto, kernel=sigmoid; total time=   0.1s\n",
      "[CV] END ..........C=4, degree=9, gamma=auto, kernel=sigmoid; total time=   0.1s\n",
      "[CV] END ................C=1, degree=11, gamma=1, kernel=rbf; total time=   0.3s\n",
      "[CV] END ................C=1, degree=11, gamma=1, kernel=rbf; total time=   0.3s\n",
      "[CV] END ................C=1, degree=11, gamma=1, kernel=rbf; total time=   0.4s\n",
      "[CV] END ................C=1, degree=11, gamma=1, kernel=rbf; total time=   0.3s\n",
      "[CV] END ................C=1, degree=11, gamma=1, kernel=rbf; total time=   0.3s\n",
      "[CV] END ...............C=10, degree=20, gamma=1, kernel=rbf; total time=   0.3s\n",
      "[CV] END ...............C=10, degree=20, gamma=1, kernel=rbf; total time=   1.0s\n",
      "[CV] END ...............C=10, degree=20, gamma=1, kernel=rbf; total time=   1.0s\n",
      "[CV] END ...............C=10, degree=20, gamma=1, kernel=rbf; total time=   0.7s\n",
      "[CV] END ...............C=10, degree=20, gamma=1, kernel=rbf; total time=   0.6s\n",
      "[CV] END .................C=2, degree=1, gamma=1, kernel=rbf; total time=   0.6s\n",
      "[CV] END .................C=2, degree=1, gamma=1, kernel=rbf; total time=   0.6s\n",
      "[CV] END .................C=2, degree=1, gamma=1, kernel=rbf; total time=   0.6s\n",
      "[CV] END .................C=2, degree=1, gamma=1, kernel=rbf; total time=   0.6s\n",
      "[CV] END .................C=2, degree=1, gamma=1, kernel=rbf; total time=   0.6s\n",
      "[CV] END ............C=6, degree=1, gamma=10, kernel=sigmoid; total time=   0.4s\n",
      "[CV] END ............C=6, degree=1, gamma=10, kernel=sigmoid; total time=   0.5s\n",
      "[CV] END ............C=6, degree=1, gamma=10, kernel=sigmoid; total time=   0.5s\n",
      "[CV] END ............C=6, degree=1, gamma=10, kernel=sigmoid; total time=   0.4s\n",
      "[CV] END ............C=6, degree=1, gamma=10, kernel=sigmoid; total time=   0.5s\n",
      "[CV] END ...........C=5, degree=14, gamma=10, kernel=sigmoid; total time=   0.4s\n",
      "[CV] END ...........C=5, degree=14, gamma=10, kernel=sigmoid; total time=   0.4s\n",
      "[CV] END ...........C=5, degree=14, gamma=10, kernel=sigmoid; total time=   0.4s\n",
      "[CV] END ...........C=5, degree=14, gamma=10, kernel=sigmoid; total time=   0.4s\n",
      "[CV] END ...........C=5, degree=14, gamma=10, kernel=sigmoid; total time=   0.5s\n",
      "[CV] END ................C=5, degree=10, gamma=1, kernel=rbf; total time=   0.6s\n",
      "[CV] END ................C=5, degree=10, gamma=1, kernel=rbf; total time=   0.6s\n",
      "[CV] END ................C=5, degree=10, gamma=1, kernel=rbf; total time=   0.7s\n",
      "[CV] END ................C=5, degree=10, gamma=1, kernel=rbf; total time=   0.6s\n",
      "[CV] END ................C=5, degree=10, gamma=1, kernel=rbf; total time=   0.5s\n",
      "[CV] END .........C=3, degree=17, gamma=auto, kernel=sigmoid; total time=   0.2s\n"
     ]
    },
    {
     "name": "stdout",
     "output_type": "stream",
     "text": [
      "[CV] END .........C=3, degree=17, gamma=auto, kernel=sigmoid; total time=   0.2s\n",
      "[CV] END .........C=3, degree=17, gamma=auto, kernel=sigmoid; total time=   0.2s\n",
      "[CV] END .........C=3, degree=17, gamma=auto, kernel=sigmoid; total time=   0.2s\n",
      "[CV] END .........C=3, degree=17, gamma=auto, kernel=sigmoid; total time=   0.2s\n",
      "[CV] END .........C=7, degree=14, gamma=auto, kernel=sigmoid; total time=   0.2s\n",
      "[CV] END .........C=7, degree=14, gamma=auto, kernel=sigmoid; total time=   0.2s\n",
      "[CV] END .........C=7, degree=14, gamma=auto, kernel=sigmoid; total time=   0.2s\n",
      "[CV] END .........C=7, degree=14, gamma=auto, kernel=sigmoid; total time=   0.2s\n",
      "[CV] END .........C=7, degree=14, gamma=auto, kernel=sigmoid; total time=   0.2s\n",
      "[CV] END ...........C=6, degree=11, gamma=10, kernel=sigmoid; total time=   0.5s\n",
      "[CV] END ...........C=6, degree=11, gamma=10, kernel=sigmoid; total time=   0.9s\n",
      "[CV] END ...........C=6, degree=11, gamma=10, kernel=sigmoid; total time=   0.4s\n",
      "[CV] END ...........C=6, degree=11, gamma=10, kernel=sigmoid; total time=   0.5s\n",
      "[CV] END ...........C=6, degree=11, gamma=10, kernel=sigmoid; total time=   0.6s\n",
      "[CV] END ...............C=5, degree=10, gamma=10, kernel=rbf; total time=   2.0s\n",
      "[CV] END ...............C=5, degree=10, gamma=10, kernel=rbf; total time=   1.7s\n",
      "[CV] END ...............C=5, degree=10, gamma=10, kernel=rbf; total time=   1.5s\n",
      "[CV] END ...............C=5, degree=10, gamma=10, kernel=rbf; total time=   1.1s\n",
      "[CV] END ...............C=5, degree=10, gamma=10, kernel=rbf; total time=   1.2s\n",
      "[CV] END .........C=7, degree=19, gamma=auto, kernel=sigmoid; total time=   0.1s\n",
      "[CV] END .........C=7, degree=19, gamma=auto, kernel=sigmoid; total time=   0.2s\n",
      "[CV] END .........C=7, degree=19, gamma=auto, kernel=sigmoid; total time=   0.1s\n",
      "[CV] END .........C=7, degree=19, gamma=auto, kernel=sigmoid; total time=   0.1s\n",
      "[CV] END .........C=7, degree=19, gamma=auto, kernel=sigmoid; total time=   0.1s\n",
      "[CV] END .................C=3, degree=5, gamma=1, kernel=rbf; total time=   0.4s\n",
      "[CV] END .................C=3, degree=5, gamma=1, kernel=rbf; total time=   0.4s\n",
      "[CV] END .................C=3, degree=5, gamma=1, kernel=rbf; total time=   0.4s\n",
      "[CV] END .................C=3, degree=5, gamma=1, kernel=rbf; total time=   0.3s\n",
      "[CV] END .................C=3, degree=5, gamma=1, kernel=rbf; total time=   0.3s\n",
      "[CV] END .........C=2, degree=19, gamma=auto, kernel=sigmoid; total time=   0.1s\n",
      "[CV] END .........C=2, degree=19, gamma=auto, kernel=sigmoid; total time=   0.1s\n",
      "[CV] END .........C=2, degree=19, gamma=auto, kernel=sigmoid; total time=   0.1s\n",
      "[CV] END .........C=2, degree=19, gamma=auto, kernel=sigmoid; total time=   0.1s\n",
      "[CV] END .........C=2, degree=19, gamma=auto, kernel=sigmoid; total time=   0.1s\n",
      "[CV] END ..........C=1, degree=3, gamma=auto, kernel=sigmoid; total time=   0.2s\n",
      "[CV] END ..........C=1, degree=3, gamma=auto, kernel=sigmoid; total time=   0.1s\n",
      "[CV] END ..........C=1, degree=3, gamma=auto, kernel=sigmoid; total time=   0.2s\n",
      "[CV] END ..........C=1, degree=3, gamma=auto, kernel=sigmoid; total time=   0.2s\n",
      "[CV] END ..........C=1, degree=3, gamma=auto, kernel=sigmoid; total time=   0.1s\n",
      "[CV] END .............C=4, degree=2, gamma=1, kernel=sigmoid; total time=   0.2s\n",
      "[CV] END .............C=4, degree=2, gamma=1, kernel=sigmoid; total time=   0.3s\n",
      "[CV] END .............C=4, degree=2, gamma=1, kernel=sigmoid; total time=   0.3s\n",
      "[CV] END .............C=4, degree=2, gamma=1, kernel=sigmoid; total time=   0.2s\n",
      "[CV] END .............C=4, degree=2, gamma=1, kernel=sigmoid; total time=   0.3s\n",
      "[CV] END .........C=8, degree=16, gamma=auto, kernel=sigmoid; total time=   0.1s\n",
      "[CV] END .........C=8, degree=16, gamma=auto, kernel=sigmoid; total time=   0.1s\n",
      "[CV] END .........C=8, degree=16, gamma=auto, kernel=sigmoid; total time=   0.1s\n",
      "[CV] END .........C=8, degree=16, gamma=auto, kernel=sigmoid; total time=   0.1s\n",
      "[CV] END .........C=8, degree=16, gamma=auto, kernel=sigmoid; total time=   0.0s\n",
      "[CV] END ..........C=9, degree=3, gamma=auto, kernel=sigmoid; total time=   0.1s\n",
      "[CV] END ..........C=9, degree=3, gamma=auto, kernel=sigmoid; total time=   0.1s\n",
      "[CV] END ..........C=9, degree=3, gamma=auto, kernel=sigmoid; total time=   0.1s\n",
      "[CV] END ..........C=9, degree=3, gamma=auto, kernel=sigmoid; total time=   0.1s\n",
      "[CV] END ..........C=9, degree=3, gamma=auto, kernel=sigmoid; total time=   0.0s\n",
      "[CV] END ............C=1, degree=4, gamma=10, kernel=sigmoid; total time=   0.2s\n",
      "[CV] END ............C=1, degree=4, gamma=10, kernel=sigmoid; total time=   0.3s\n",
      "[CV] END ............C=1, degree=4, gamma=10, kernel=sigmoid; total time=   0.2s\n",
      "[CV] END ............C=1, degree=4, gamma=10, kernel=sigmoid; total time=   0.2s\n",
      "[CV] END ............C=1, degree=4, gamma=10, kernel=sigmoid; total time=   0.2s\n",
      "[CV] END ...........C=10, degree=3, gamma=10, kernel=sigmoid; total time=   0.2s\n",
      "[CV] END ...........C=10, degree=3, gamma=10, kernel=sigmoid; total time=   0.2s\n",
      "[CV] END ...........C=10, degree=3, gamma=10, kernel=sigmoid; total time=   0.2s\n",
      "[CV] END ...........C=10, degree=3, gamma=10, kernel=sigmoid; total time=   0.2s\n",
      "[CV] END ...........C=10, degree=3, gamma=10, kernel=sigmoid; total time=   0.2s\n",
      "[CV] END ..........C=7, degree=2, gamma=auto, kernel=sigmoid; total time=   0.1s\n",
      "[CV] END ..........C=7, degree=2, gamma=auto, kernel=sigmoid; total time=   0.1s\n",
      "[CV] END ..........C=7, degree=2, gamma=auto, kernel=sigmoid; total time=   0.0s\n",
      "[CV] END ..........C=7, degree=2, gamma=auto, kernel=sigmoid; total time=   0.1s\n",
      "[CV] END ..........C=7, degree=2, gamma=auto, kernel=sigmoid; total time=   0.0s\n",
      "[CV] END ..........C=4, degree=4, gamma=auto, kernel=sigmoid; total time=   0.1s\n",
      "[CV] END ..........C=4, degree=4, gamma=auto, kernel=sigmoid; total time=   0.1s\n",
      "[CV] END ..........C=4, degree=4, gamma=auto, kernel=sigmoid; total time=   0.1s\n",
      "[CV] END ..........C=4, degree=4, gamma=auto, kernel=sigmoid; total time=   0.1s\n",
      "[CV] END ..........C=4, degree=4, gamma=auto, kernel=sigmoid; total time=   0.1s\n",
      "[CV] END ..........C=9, degree=1, gamma=auto, kernel=sigmoid; total time=   0.1s\n",
      "[CV] END ..........C=9, degree=1, gamma=auto, kernel=sigmoid; total time=   0.1s\n",
      "[CV] END ..........C=9, degree=1, gamma=auto, kernel=sigmoid; total time=   0.0s\n",
      "[CV] END ..........C=9, degree=1, gamma=auto, kernel=sigmoid; total time=   0.1s\n",
      "[CV] END ..........C=9, degree=1, gamma=auto, kernel=sigmoid; total time=   0.0s\n",
      "[CV] END ................C=6, degree=2, gamma=10, kernel=rbf; total time=   0.9s\n",
      "[CV] END ................C=6, degree=2, gamma=10, kernel=rbf; total time=   1.0s\n",
      "[CV] END ................C=6, degree=2, gamma=10, kernel=rbf; total time=   0.9s\n",
      "[CV] END ................C=6, degree=2, gamma=10, kernel=rbf; total time=   0.9s\n",
      "[CV] END ................C=6, degree=2, gamma=10, kernel=rbf; total time=   1.0s\n",
      "[CV] END ............C=8, degree=3, gamma=10, kernel=sigmoid; total time=   0.2s\n",
      "[CV] END ............C=8, degree=3, gamma=10, kernel=sigmoid; total time=   0.3s\n",
      "[CV] END ............C=8, degree=3, gamma=10, kernel=sigmoid; total time=   0.3s\n",
      "[CV] END ............C=8, degree=3, gamma=10, kernel=sigmoid; total time=   0.3s\n",
      "[CV] END ............C=8, degree=3, gamma=10, kernel=sigmoid; total time=   0.2s\n",
      "[CV] END .............C=6, degree=10, gamma=auto, kernel=rbf; total time=   0.1s\n",
      "[CV] END .............C=6, degree=10, gamma=auto, kernel=rbf; total time=   0.1s\n",
      "[CV] END .............C=6, degree=10, gamma=auto, kernel=rbf; total time=   0.1s\n",
      "[CV] END .............C=6, degree=10, gamma=auto, kernel=rbf; total time=   0.1s\n",
      "[CV] END .............C=6, degree=10, gamma=auto, kernel=rbf; total time=   0.1s\n",
      "[CV] END ...............C=7, degree=20, gamma=10, kernel=rbf; total time=   1.0s\n",
      "[CV] END ...............C=7, degree=20, gamma=10, kernel=rbf; total time=   1.0s\n",
      "[CV] END ...............C=7, degree=20, gamma=10, kernel=rbf; total time=   1.0s\n",
      "[CV] END ...............C=7, degree=20, gamma=10, kernel=rbf; total time=   1.1s\n",
      "[CV] END ...............C=7, degree=20, gamma=10, kernel=rbf; total time=   1.1s\n"
     ]
    },
    {
     "data": {
      "text/html": [
       "<style>#sk-container-id-1 {color: black;background-color: white;}#sk-container-id-1 pre{padding: 0;}#sk-container-id-1 div.sk-toggleable {background-color: white;}#sk-container-id-1 label.sk-toggleable__label {cursor: pointer;display: block;width: 100%;margin-bottom: 0;padding: 0.3em;box-sizing: border-box;text-align: center;}#sk-container-id-1 label.sk-toggleable__label-arrow:before {content: \"▸\";float: left;margin-right: 0.25em;color: #696969;}#sk-container-id-1 label.sk-toggleable__label-arrow:hover:before {color: black;}#sk-container-id-1 div.sk-estimator:hover label.sk-toggleable__label-arrow:before {color: black;}#sk-container-id-1 div.sk-toggleable__content {max-height: 0;max-width: 0;overflow: hidden;text-align: left;background-color: #f0f8ff;}#sk-container-id-1 div.sk-toggleable__content pre {margin: 0.2em;color: black;border-radius: 0.25em;background-color: #f0f8ff;}#sk-container-id-1 input.sk-toggleable__control:checked~div.sk-toggleable__content {max-height: 200px;max-width: 100%;overflow: auto;}#sk-container-id-1 input.sk-toggleable__control:checked~label.sk-toggleable__label-arrow:before {content: \"▾\";}#sk-container-id-1 div.sk-estimator input.sk-toggleable__control:checked~label.sk-toggleable__label {background-color: #d4ebff;}#sk-container-id-1 div.sk-label input.sk-toggleable__control:checked~label.sk-toggleable__label {background-color: #d4ebff;}#sk-container-id-1 input.sk-hidden--visually {border: 0;clip: rect(1px 1px 1px 1px);clip: rect(1px, 1px, 1px, 1px);height: 1px;margin: -1px;overflow: hidden;padding: 0;position: absolute;width: 1px;}#sk-container-id-1 div.sk-estimator {font-family: monospace;background-color: #f0f8ff;border: 1px dotted black;border-radius: 0.25em;box-sizing: border-box;margin-bottom: 0.5em;}#sk-container-id-1 div.sk-estimator:hover {background-color: #d4ebff;}#sk-container-id-1 div.sk-parallel-item::after {content: \"\";width: 100%;border-bottom: 1px solid gray;flex-grow: 1;}#sk-container-id-1 div.sk-label:hover label.sk-toggleable__label {background-color: #d4ebff;}#sk-container-id-1 div.sk-serial::before {content: \"\";position: absolute;border-left: 1px solid gray;box-sizing: border-box;top: 0;bottom: 0;left: 50%;z-index: 0;}#sk-container-id-1 div.sk-serial {display: flex;flex-direction: column;align-items: center;background-color: white;padding-right: 0.2em;padding-left: 0.2em;position: relative;}#sk-container-id-1 div.sk-item {position: relative;z-index: 1;}#sk-container-id-1 div.sk-parallel {display: flex;align-items: stretch;justify-content: center;background-color: white;position: relative;}#sk-container-id-1 div.sk-item::before, #sk-container-id-1 div.sk-parallel-item::before {content: \"\";position: absolute;border-left: 1px solid gray;box-sizing: border-box;top: 0;bottom: 0;left: 50%;z-index: -1;}#sk-container-id-1 div.sk-parallel-item {display: flex;flex-direction: column;z-index: 1;position: relative;background-color: white;}#sk-container-id-1 div.sk-parallel-item:first-child::after {align-self: flex-end;width: 50%;}#sk-container-id-1 div.sk-parallel-item:last-child::after {align-self: flex-start;width: 50%;}#sk-container-id-1 div.sk-parallel-item:only-child::after {width: 0;}#sk-container-id-1 div.sk-dashed-wrapped {border: 1px dashed gray;margin: 0 0.4em 0.5em 0.4em;box-sizing: border-box;padding-bottom: 0.4em;background-color: white;}#sk-container-id-1 div.sk-label label {font-family: monospace;font-weight: bold;display: inline-block;line-height: 1.2em;}#sk-container-id-1 div.sk-label-container {text-align: center;}#sk-container-id-1 div.sk-container {/* jupyter's `normalize.less` sets `[hidden] { display: none; }` but bootstrap.min.css set `[hidden] { display: none !important; }` so we also need the `!important` here to be able to override the default hidden behavior on the sphinx rendered scikit-learn.org. See: https://github.com/scikit-learn/scikit-learn/issues/21755 */display: inline-block !important;position: relative;}#sk-container-id-1 div.sk-text-repr-fallback {display: none;}</style><div id=\"sk-container-id-1\" class=\"sk-top-container\"><div class=\"sk-text-repr-fallback\"><pre>RandomizedSearchCV(cv=5, estimator=SVC(), n_iter=40,\n",
       "                   param_distributions={&#x27;C&#x27;: [1, 2, 3, 4, 5, 6, 7, 8, 9, 10],\n",
       "                                        &#x27;degree&#x27;: [1, 1, 1, 2, 2, 2, 3, 3, 4, 4,\n",
       "                                                   4, 5, 5, 6, 6, 6, 7, 7, 7, 8,\n",
       "                                                   8, 9, 9, 9, 10, 10, 11, 11,\n",
       "                                                   11, 12, ...],\n",
       "                                        &#x27;gamma&#x27;: [&#x27;auto&#x27;, 1, 10],\n",
       "                                        &#x27;kernel&#x27;: [&#x27;rbf&#x27;, &#x27;sigmoid&#x27;]},\n",
       "                   verbose=2)</pre><b>In a Jupyter environment, please rerun this cell to show the HTML representation or trust the notebook. <br />On GitHub, the HTML representation is unable to render, please try loading this page with nbviewer.org.</b></div><div class=\"sk-container\" hidden><div class=\"sk-item sk-dashed-wrapped\"><div class=\"sk-label-container\"><div class=\"sk-label sk-toggleable\"><input class=\"sk-toggleable__control sk-hidden--visually\" id=\"sk-estimator-id-1\" type=\"checkbox\" ><label for=\"sk-estimator-id-1\" class=\"sk-toggleable__label sk-toggleable__label-arrow\">RandomizedSearchCV</label><div class=\"sk-toggleable__content\"><pre>RandomizedSearchCV(cv=5, estimator=SVC(), n_iter=40,\n",
       "                   param_distributions={&#x27;C&#x27;: [1, 2, 3, 4, 5, 6, 7, 8, 9, 10],\n",
       "                                        &#x27;degree&#x27;: [1, 1, 1, 2, 2, 2, 3, 3, 4, 4,\n",
       "                                                   4, 5, 5, 6, 6, 6, 7, 7, 7, 8,\n",
       "                                                   8, 9, 9, 9, 10, 10, 11, 11,\n",
       "                                                   11, 12, ...],\n",
       "                                        &#x27;gamma&#x27;: [&#x27;auto&#x27;, 1, 10],\n",
       "                                        &#x27;kernel&#x27;: [&#x27;rbf&#x27;, &#x27;sigmoid&#x27;]},\n",
       "                   verbose=2)</pre></div></div></div><div class=\"sk-parallel\"><div class=\"sk-parallel-item\"><div class=\"sk-item\"><div class=\"sk-label-container\"><div class=\"sk-label sk-toggleable\"><input class=\"sk-toggleable__control sk-hidden--visually\" id=\"sk-estimator-id-2\" type=\"checkbox\" ><label for=\"sk-estimator-id-2\" class=\"sk-toggleable__label sk-toggleable__label-arrow\">estimator: SVC</label><div class=\"sk-toggleable__content\"><pre>SVC()</pre></div></div></div><div class=\"sk-serial\"><div class=\"sk-item\"><div class=\"sk-estimator sk-toggleable\"><input class=\"sk-toggleable__control sk-hidden--visually\" id=\"sk-estimator-id-3\" type=\"checkbox\" ><label for=\"sk-estimator-id-3\" class=\"sk-toggleable__label sk-toggleable__label-arrow\">SVC</label><div class=\"sk-toggleable__content\"><pre>SVC()</pre></div></div></div></div></div></div></div></div></div></div>"
      ],
      "text/plain": [
       "RandomizedSearchCV(cv=5, estimator=SVC(), n_iter=40,\n",
       "                   param_distributions={'C': [1, 2, 3, 4, 5, 6, 7, 8, 9, 10],\n",
       "                                        'degree': [1, 1, 1, 2, 2, 2, 3, 3, 4, 4,\n",
       "                                                   4, 5, 5, 6, 6, 6, 7, 7, 7, 8,\n",
       "                                                   8, 9, 9, 9, 10, 10, 11, 11,\n",
       "                                                   11, 12, ...],\n",
       "                                        'gamma': ['auto', 1, 10],\n",
       "                                        'kernel': ['rbf', 'sigmoid']},\n",
       "                   verbose=2)"
      ]
     },
     "execution_count": 34,
     "metadata": {},
     "output_type": "execute_result"
    }
   ],
   "source": [
    "from sklearn.model_selection import RandomizedSearchCV\n",
    "\n",
    "# defining parameter range\n",
    "param_grid = {'C': [1,2,3,4,5,6,7,8,9,10],\n",
    "              'gamma': ['auto',1, 10],\n",
    "              'kernel': ['rbf', 'sigmoid'],\n",
    "             'degree' : [int(x) for x in np.linspace(start = 1, stop = 20)]}\n",
    "\n",
    "rsvc = RandomizedSearchCV(SVC(), param_grid, cv = 5, n_iter=40, verbose = 2)\n",
    "\n",
    "# fitting the model for grid search\n",
    "rsvc.fit(x_train, y_train)\n"
   ]
  },
  {
   "cell_type": "code",
   "execution_count": 35,
   "id": "f23ef3fd",
   "metadata": {},
   "outputs": [
    {
     "data": {
      "text/plain": [
       "{'kernel': 'rbf', 'gamma': 'auto', 'degree': 4, 'C': 6}"
      ]
     },
     "execution_count": 35,
     "metadata": {},
     "output_type": "execute_result"
    }
   ],
   "source": [
    "rsvc.best_params_"
   ]
  },
  {
   "cell_type": "code",
   "execution_count": 38,
   "id": "84b97201",
   "metadata": {
    "scrolled": true
   },
   "outputs": [
    {
     "name": "stdout",
     "output_type": "stream",
     "text": [
      "Accuracy score :-  0.9349693251533743\n",
      "--------\n",
      "Confusion matrix\n",
      "\n"
     ]
    },
    {
     "data": {
      "text/plain": [
       "<AxesSubplot:title={'center':'Confusion Matrix'}, xlabel='Predicted label', ylabel='True label'>"
      ]
     },
     "execution_count": 38,
     "metadata": {},
     "output_type": "execute_result"
    },
    {
     "data": {
      "image/png": "[encoded data removed]",
      "text/plain": [
       "<Figure size 432x288 with 2 Axes>"
      ]
     },
     "metadata": {
      "needs_background": "light"
     },
     "output_type": "display_data"
    }
   ],
   "source": [
    "svc = SVC(kernel = 'rbf', gamma = 'auto', degree = 4, C= 3)\n",
    "svc.fit(x_train,y_train)\n",
    "y_pred = svc.predict(x_test)\n",
    "print(\"Accuracy score :- \", accuracy_score(y_test,y_pred))\n",
    "print(\"--------\")\n",
    "print(\"Confusion matrix\\n\")\n",
    "skp.metrics.plot_confusion_matrix(y_test, y_pred, normalize=False)"
   ]
  },
  {
   "cell_type": "code",
   "execution_count": 39,
   "id": "7b400eda",
   "metadata": {},
   "outputs": [
    {
     "data": {
      "text/plain": [
       "['svc.sav']"
      ]
     },
     "execution_count": 39,
     "metadata": {},
     "output_type": "execute_result"
    }
   ],
   "source": [
    "import joblib\n",
    " \n",
    "joblib.dump(svc, 'svc.sav', compress=5)\n"
   ]
  }
 ],
 "metadata": {
  "kernelspec": {
   "display_name": "Python 3 (ipykernel)",
   "language": "python",
   "name": "python3"
  },
  "language_info": {
   "codemirror_mode": {
    "name": "ipython",
    "version": 3
   },
   "file_extension": ".py",
   "mimetype": "text/x-python",
   "name": "python",
   "nbconvert_exporter": "python",
   "pygments_lexer": "ipython3",
   "version": "3.10.4"
  }
 },
 "nbformat": 4,
 "nbformat_minor": 5
}
